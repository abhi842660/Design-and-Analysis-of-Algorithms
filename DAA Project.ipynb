{
 "cells": [
  {
   "cell_type": "code",
   "execution_count": 4,
   "id": "f08b33ef-6d48-41e9-a5dc-4ac29ae7ea51",
   "metadata": {},
   "outputs": [
    {
     "name": "stdout",
     "output_type": "stream",
     "text": [
      "Brute Force Approach:\n",
      "Best Path: (0, 1, 3, 2), Shortest Distance: 80\n"
     ]
    }
   ],
   "source": [
    "import itertools\n",
    "\n",
    "def calculate_distance(cities, path):\n",
    "    distance = 0\n",
    "    for i in range(len(path) - 1):\n",
    "        distance += cities[path[i]][path[i + 1]]\n",
    "    distance += cities[path[-1]][path[0]]  # Return to starting city\n",
    "    return distance\n",
    "\n",
    "def tsp_brute_force(cities):\n",
    "    num_cities = len(cities)\n",
    "    shortest_distance = float('inf')\n",
    "    best_path = []\n",
    "    \n",
    "    for path in itertools.permutations(range(num_cities)):\n",
    "        current_distance = calculate_distance(cities, path)\n",
    "        if current_distance < shortest_distance:\n",
    "            shortest_distance = current_distance\n",
    "            best_path = path\n",
    "            \n",
    "    return best_path, shortest_distance\n",
    "if __name__ == \"__main__\":\n",
    "    cities = [\n",
    "        [0, 10, 15, 20],\n",
    "        [10, 0, 35, 25],\n",
    "        [15, 35, 0, 30],\n",
    "        [20, 25, 30, 0]\n",
    "    ]\n",
    "# Brute Force\n",
    "    best_path_brute_force, shortest_distance_brute_force = tsp_brute_force(cities)\n",
    "    print(\"Brute Force Approach:\")\n",
    "    print(f\"Best Path: {best_path_brute_force}, Shortest Distance: {shortest_distance_brute_force}\")"
   ]
  },
  {
   "cell_type": "code",
   "execution_count": 6,
   "id": "1bc41c23-7aa2-4e7a-b8ab-0614afab78a5",
   "metadata": {},
   "outputs": [
    {
     "name": "stdout",
     "output_type": "stream",
     "text": [
      "Dynamic Programming Approach:\n",
      "Shortest Distance: 80\n"
     ]
    }
   ],
   "source": [
    "def tsp_dynamic_programming(cities):\n",
    "    n = len(cities)\n",
    "    # memoization table\n",
    "    memo = {}\n",
    "    \n",
    "    # helper function to find shortest path\n",
    "    def find_shortest_path(pos, visited):\n",
    "        if visited == (1 << n) - 1:  # All cities visited\n",
    "            return cities[pos][0]  # Return to starting city\n",
    "        \n",
    "        if (pos, visited) in memo:\n",
    "            return memo[(pos, visited)]\n",
    "        \n",
    "        min_cost = float('inf')\n",
    "        \n",
    "        for city in range(n):\n",
    "            if (visited & (1 << city)) == 0:  # If city is not visited\n",
    "                new_cost = cities[pos][city] + find_shortest_path(city, visited | (1 << city))\n",
    "                min_cost = min(min_cost, new_cost)\n",
    "        \n",
    "        memo[(pos, visited)] = min_cost\n",
    "        return min_cost\n",
    "    \n",
    "    return find_shortest_path(0, 1)  # Start from the first city with only the first city visited\n",
    "if __name__ == \"__main__\":\n",
    "    cities = [\n",
    "        [0, 10, 15, 20],\n",
    "        [10, 0, 35, 25],\n",
    "        [15, 35, 0, 30],\n",
    "        [20, 25, 30, 0]\n",
    "    ]\n",
    "# Dynamic Programming\n",
    "    shortest_distance_dp = tsp_dynamic_programming(cities)\n",
    "    print(\"Dynamic Programming Approach:\")\n",
    "    print(f\"Shortest Distance: {shortest_distance_dp}\")"
   ]
  },
  {
   "cell_type": "code",
   "execution_count": null,
   "id": "76291ca8-8b1d-4270-9a34-9250a8c99ca9",
   "metadata": {},
   "outputs": [],
   "source": []
  }
 ],
 "metadata": {
  "kernelspec": {
   "display_name": "Python 3 (ipykernel)",
   "language": "python",
   "name": "python3"
  },
  "language_info": {
   "codemirror_mode": {
    "name": "ipython",
    "version": 3
   },
   "file_extension": ".py",
   "mimetype": "text/x-python",
   "name": "python",
   "nbconvert_exporter": "python",
   "pygments_lexer": "ipython3",
   "version": "3.12.7"
  }
 },
 "nbformat": 4,
 "nbformat_minor": 5
}
